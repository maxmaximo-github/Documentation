{
 "cells": [
  {
   "cell_type": "markdown",
   "id": "c195900c",
   "metadata": {},
   "source": [
    "<span style=\"color: blue\">Question 12</span>\n",
    "***\n",
    "\n",
    "What is the result of the following comparison?"
   ]
  },
  {
   "cell_type": "code",
   "execution_count": 1,
   "id": "a60d8b16",
   "metadata": {},
   "outputs": [
    {
     "name": "stdout",
     "output_type": "stream",
     "text": [
      "False\n"
     ]
    }
   ],
   "source": [
    "x = \"20\"\n",
    "y = \"30\"\n",
    "print(x > y)"
   ]
  },
  {
   "cell_type": "markdown",
   "id": "fc9e2c80",
   "metadata": {},
   "source": [
    "    A. True\n",
    "    B. False***\n",
    "    C. None\n",
    "    D. The comparison causes a runtime exception/error\n"
   ]
  },
  {
   "cell_type": "markdown",
   "id": "e480996c",
   "metadata": {},
   "source": [
    "Question 13\n",
    "***\n",
    "What is the expected output of the following snippet?"
   ]
  },
  {
   "cell_type": "code",
   "execution_count": 6,
   "id": "d2e421e1",
   "metadata": {},
   "outputs": [
    {
     "name": "stdout",
     "output_type": "stream",
     "text": [
      "Hello, Python!\n"
     ]
    }
   ],
   "source": [
    "s = \"Hello, Python!\"\n",
    "print(s[-1000:15])"
   ]
  },
  {
   "cell_type": "markdown",
   "id": "98b839b1",
   "metadata": {},
   "source": [
    "    A. Hello, Python! ****\n",
    "    B. !nohtyP ,olleH\n",
    "    C. Hello, Python!Hello, Python!\n",
    "    D. !nohtyP ,olleH!nohtyP ,olleH\n",
    "    E. The program causes a runtime exception/error\n",
    "    F. The result cannot be predicted."
   ]
  },
  {
   "cell_type": "code",
   "execution_count": null,
   "id": "9fd421a0",
   "metadata": {},
   "outputs": [],
   "source": []
  },
  {
   "cell_type": "code",
   "execution_count": null,
   "id": "d0ee5202",
   "metadata": {},
   "outputs": [],
   "source": []
  }
 ],
 "metadata": {
  "kernelspec": {
   "display_name": "Python 3 (ipykernel)",
   "language": "python",
   "name": "python3"
  },
  "language_info": {
   "codemirror_mode": {
    "name": "ipython",
    "version": 3
   },
   "file_extension": ".py",
   "mimetype": "text/x-python",
   "name": "python",
   "nbconvert_exporter": "python",
   "pygments_lexer": "ipython3",
   "version": "3.8.10"
  }
 },
 "nbformat": 4,
 "nbformat_minor": 5
}
