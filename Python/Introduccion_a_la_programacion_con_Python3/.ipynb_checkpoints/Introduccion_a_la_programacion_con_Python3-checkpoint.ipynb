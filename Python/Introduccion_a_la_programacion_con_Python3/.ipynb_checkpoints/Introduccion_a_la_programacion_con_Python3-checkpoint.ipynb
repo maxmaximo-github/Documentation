{
 "cells": [
  {
   "cell_type": "markdown",
   "id": "1263c509",
   "metadata": {},
   "source": [
    "14. ¿Qué resultados se obtendrán al evaluar las siguietes expresiones en Python? Dibuja el árbol sintáctico de cada una de ella, calcula a mano el valor resultante de cada expresión y comprueba, con la ayuda del ordenador, si tu resultado es correcto."
   ]
  },
  {
   "cell_type": "markdown",
   "id": "d653293f",
   "metadata": {},
   "source": [
    "    a) 2 + 3 +1 +2"
   ]
  },
  {
   "cell_type": "code",
   "execution_count": 3,
   "id": "2a227dfb",
   "metadata": {},
   "outputs": [
    {
     "data": {
      "text/plain": [
       "8"
      ]
     },
     "execution_count": 3,
     "metadata": {},
     "output_type": "execute_result"
    }
   ],
   "source": [
    "2 + 3 + 1 + 2"
   ]
  },
  {
   "cell_type": "markdown",
   "id": "38429ca8",
   "metadata": {},
   "source": [
    "    h) -3 // 2 -1"
   ]
  },
  {
   "cell_type": "code",
   "execution_count": 4,
   "id": "ffb3447b",
   "metadata": {},
   "outputs": [
    {
     "data": {
      "text/plain": [
       "-3"
      ]
     },
     "execution_count": 4,
     "metadata": {},
     "output_type": "execute_result"
    }
   ],
   "source": [
    "-3 // 2 - 1"
   ]
  },
  {
   "cell_type": "markdown",
   "id": "4e29a51a",
   "metadata": {},
   "source": [
    "Cuando Python es incapaz de analizar una expresión, produce una excepción.\n",
    "\n",
    "Errores syntacticos son aquellos que aparecen al ingresar mal una sintaxis, nos mostrara con un puntero donde se encuentra el error."
   ]
  },
  {
   "cell_type": "code",
   "execution_count": 7,
   "id": "ca30da7e",
   "metadata": {},
   "outputs": [
    {
     "data": {
      "text/plain": [
       "1"
      ]
     },
     "execution_count": 7,
     "metadata": {},
     "output_type": "execute_result"
    }
   ],
   "source": [
    "3 // 2"
   ]
  },
  {
   "cell_type": "markdown",
   "id": "207b058d",
   "metadata": {},
   "source": [
    "La suma, por ejemplo, produce un resultado de tipo entero si sus dos operandos son de tipo entero, pero produce una valor de tipo flotante si uno cualquiera de sus operandos es de tipo flotante."
   ]
  },
  {
   "cell_type": "code",
   "execution_count": 8,
   "id": "4bce7185",
   "metadata": {},
   "outputs": [
    {
     "data": {
      "text/plain": [
       "5.0"
      ]
     },
     "execution_count": 8,
     "metadata": {},
     "output_type": "execute_result"
    }
   ],
   "source": [
    "2.0 + 3"
   ]
  },
  {
   "cell_type": "markdown",
   "id": "08aa6ed6",
   "metadata": {},
   "source": [
    "Python sigue una regla sencilla: si hay datos de tipos distintos, el resultado es del tipo más general. Los flotantes son del tipo más general que los enteros.\n",
    "\n",
    "Hay diferencias entre enteros y reales en Python más alla de que los primeros no tengan decimales y los segundos sí. El número 3 y el número 3.0, por ejemplo, son dindistinguibles matemáticamente, pero diferentes en Python. ¿Qué diferencias hay?\n",
    "\n",
    "    * Los enteros suelen ocupar menos memoria.\n",
    "    * Las operaciones entre enreros son, generalmente, más rápidas.\n",
    "    \n",
    "Todos los computadores convencionales utilizan una misma codificacón, es decir, representan del mismo modo las aproximaciones a los números reales. Esa codificación se conoce como IEEE Standard 754 floating point.\n",
    "\n",
    "Un número flotante debe especificarse siguiendo ciertas reglas. En principio, consta de dos partes: mantisa y exponente."
   ]
  },
  {
   "cell_type": "code",
   "execution_count": 9,
   "id": "427500d3",
   "metadata": {},
   "outputs": [
    {
     "data": {
      "text/plain": [
       "2.1"
      ]
     },
     "execution_count": 9,
     "metadata": {},
     "output_type": "execute_result"
    }
   ],
   "source": [
    "2. + .1"
   ]
  },
  {
   "cell_type": "markdown",
   "id": "133a4df6",
   "metadata": {},
   "source": [
    "El cero es opcional despues de la parte mantisa en caso de ser entero o antes del punto en caso de ser decimal."
   ]
  },
  {
   "cell_type": "markdown",
   "id": "0d765554",
   "metadata": {},
   "source": [
    "2 < 3 < 4\n",
    "Cuando aparece una expresión lógica como la anterior, Python la evalúa igual que (2 < 3) and (3 < 4)"
   ]
  },
  {
   "cell_type": "code",
   "execution_count": 11,
   "id": "462a1e1f",
   "metadata": {},
   "outputs": [
    {
     "data": {
      "text/plain": [
       "True"
      ]
     },
     "execution_count": 11,
     "metadata": {},
     "output_type": "execute_result"
    }
   ],
   "source": [
    "2 < 3 > 1"
   ]
  },
  {
   "cell_type": "code",
   "execution_count": 12,
   "id": "6be9f81e",
   "metadata": {},
   "outputs": [
    {
     "data": {
      "text/plain": [
       "False"
      ]
     },
     "execution_count": 12,
     "metadata": {},
     "output_type": "execute_result"
    }
   ],
   "source": [
    "2 < 3 == 5"
   ]
  },
  {
   "cell_type": "markdown",
   "id": "b65691bb",
   "metadata": {},
   "source": [
    "16. ¿Qué resultados se muestran al evaluar estas expresiones?"
   ]
  },
  {
   "cell_type": "code",
   "execution_count": 13,
   "id": "ca6eff5a",
   "metadata": {},
   "outputs": [
    {
     "data": {
      "text/plain": [
       "True"
      ]
     },
     "execution_count": 13,
     "metadata": {},
     "output_type": "execute_result"
    }
   ],
   "source": [
    "True == True != False"
   ]
  },
  {
   "cell_type": "code",
   "execution_count": 14,
   "id": "fa0e9bd3",
   "metadata": {},
   "outputs": [
    {
     "data": {
      "text/plain": [
       "True"
      ]
     },
     "execution_count": 14,
     "metadata": {},
     "output_type": "execute_result"
    }
   ],
   "source": [
    "1 < 2 < 3 < 4 < 5"
   ]
  },
  {
   "cell_type": "code",
   "execution_count": 15,
   "id": "07c9ecf2",
   "metadata": {},
   "outputs": [
    {
     "data": {
      "text/plain": [
       "True"
      ]
     },
     "execution_count": 15,
     "metadata": {},
     "output_type": "execute_result"
    }
   ],
   "source": [
    "(1 < 2 < 3) and (4 < 5)"
   ]
  },
  {
   "cell_type": "code",
   "execution_count": 16,
   "id": "ff4a08b4",
   "metadata": {},
   "outputs": [
    {
     "data": {
      "text/plain": [
       "False"
      ]
     },
     "execution_count": 16,
     "metadata": {},
     "output_type": "execute_result"
    }
   ],
   "source": [
    "1 < 2 < 4 < 3 < 5"
   ]
  },
  {
   "cell_type": "code",
   "execution_count": 17,
   "id": "1b018d8c",
   "metadata": {},
   "outputs": [
    {
     "data": {
      "text/plain": [
       "True"
      ]
     },
     "execution_count": 17,
     "metadata": {},
     "output_type": "execute_result"
    }
   ],
   "source": [
    "(1 < 2 < 4) and (3 < 5)"
   ]
  },
  {
   "cell_type": "markdown",
   "id": "4c3eb9fc",
   "metadata": {},
   "source": [
    "###  Variables\n",
    "     * '=' Simbolo de asignación\n",
    "El acto de dar valor a las variable se denomina asignación.\n",
    "Las asignaciones son \"mudas\", es decir, no provocan salida por pantalla.\n",
    "Se puede asignar valor a una misma variable cuantas veces se quiera. El efecto es que la variable, en cada instante, solo \"recuerda\" el último valor asignados... hasta que se le asigne otro.\n",
    "\n",
    "El nombre de una variable es su identificador. Reglas\n",
    "   * Formados por letras (exepto palabras reservadas).\n",
    "   * minúsculas.\n",
    "   * mayúsculas.\n",
    "   * dígitos y/o carácter de subrayado _\n",
    "   * El primer carácter no sea un dígito."
   ]
  },
  {
   "cell_type": "code",
   "execution_count": 18,
   "id": "978c9b2f",
   "metadata": {},
   "outputs": [
    {
     "ename": "SyntaxError",
     "evalue": "invalid syntax (234454924.py, line 1)",
     "output_type": "error",
     "traceback": [
      "\u001b[0;36m  File \u001b[0;32m\"/tmp/ipykernel_6586/234454924.py\"\u001b[0;36m, line \u001b[0;32m1\u001b[0m\n\u001b[0;31m    2todos = \"cosa\"\u001b[0m\n\u001b[0m     ^\u001b[0m\n\u001b[0;31mSyntaxError\u001b[0m\u001b[0;31m:\u001b[0m invalid syntax\n"
     ]
    }
   ],
   "source": [
    "2todos = \"cosa\""
   ]
  },
  {
   "cell_type": "code",
   "execution_count": 28,
   "id": "ac69777f",
   "metadata": {},
   "outputs": [
    {
     "ename": "NameError",
     "evalue": "name 'uno' is not defined",
     "output_type": "error",
     "traceback": [
      "\u001b[0;31m---------------------------------------------------------------------------\u001b[0m",
      "\u001b[0;31mNameError\u001b[0m                                 Traceback (most recent call last)",
      "\u001b[0;32m/tmp/ipykernel_6586/3135709179.py\u001b[0m in \u001b[0;36m<module>\u001b[0;34m\u001b[0m\n\u001b[0;32m----> 1\u001b[0;31m \u001b[0muno\u001b[0m\u001b[0;34m.\u001b[0m\u001b[0mdos\u001b[0m \u001b[0;34m=\u001b[0m \u001b[0;34m\"cosa\"\u001b[0m\u001b[0;34m\u001b[0m\u001b[0;34m\u001b[0m\u001b[0m\n\u001b[0m",
      "\u001b[0;31mNameError\u001b[0m: name 'uno' is not defined"
     ]
    }
   ],
   "source": [
    "uno.dos = \"cosa\""
   ]
  },
  {
   "cell_type": "markdown",
   "id": "15c897b7",
   "metadata": {},
   "source": [
    "19. ¿Qué resulta de ejecutar estas tres líneas?"
   ]
  },
  {
   "cell_type": "code",
   "execution_count": 29,
   "id": "ee84b9e8",
   "metadata": {},
   "outputs": [
    {
     "data": {
      "text/plain": [
       "100"
      ]
     },
     "execution_count": 29,
     "metadata": {},
     "output_type": "execute_result"
    }
   ],
   "source": [
    "x = 10\n",
    "x = x * 10\n",
    "x"
   ]
  },
  {
   "cell_type": "markdown",
   "id": "8afd1770",
   "metadata": {},
   "source": [
    "20. Evalúa el polimonio x⁴ + x³ -2²-x en x = 1.1. Utiliza variables para evitar teclear varias veces el valor de x. (El resultado es 4.1151)."
   ]
  },
  {
   "cell_type": "code",
   "execution_count": null,
   "id": "a0817e98",
   "metadata": {},
   "outputs": [],
   "source": [
    "x = 1.1"
   ]
  }
 ],
 "metadata": {
  "kernelspec": {
   "display_name": "Python 3 (ipykernel)",
   "language": "python",
   "name": "python3"
  },
  "language_info": {
   "codemirror_mode": {
    "name": "ipython",
    "version": 3
   },
   "file_extension": ".py",
   "mimetype": "text/x-python",
   "name": "python",
   "nbconvert_exporter": "python",
   "pygments_lexer": "ipython3",
   "version": "3.8.10"
  }
 },
 "nbformat": 4,
 "nbformat_minor": 5
}
