{
 "cells": [
  {
   "cell_type": "markdown",
   "id": "5ab32ed2",
   "metadata": {},
   "source": [
    "Question 1\n",
    "***\n",
    "\n",
    "What will be the output of the following Python Code?\n",
    "\n"
   ]
  },
  {
   "cell_type": "code",
   "execution_count": 1,
   "id": "faf5a166",
   "metadata": {},
   "outputs": [
    {
     "name": "stdout",
     "output_type": "stream",
     "text": [
      "[5, 5, '3', '4']\n"
     ]
    }
   ],
   "source": [
    "l = list(\"1234\")\n",
    "l[0] = l[1] = 5\n",
    "print(l)"
   ]
  },
  {
   "cell_type": "markdown",
   "id": "8b5ac0c1",
   "metadata": {},
   "source": [
    "Choose the correct option:\n",
    "* A. Error\n",
    "* B. [5, 5, '3', 4]\n",
    "* C. [5, 5, '3', '4']\n",
    "* D. None of above\n"
   ]
  },
  {
   "cell_type": "code",
   "execution_count": null,
   "id": "20a692d5",
   "metadata": {},
   "outputs": [],
   "source": []
  }
 ],
 "metadata": {
  "kernelspec": {
   "display_name": "Python 3 (ipykernel)",
   "language": "python",
   "name": "python3"
  },
  "language_info": {
   "codemirror_mode": {
    "name": "ipython",
    "version": 3
   },
   "file_extension": ".py",
   "mimetype": "text/x-python",
   "name": "python",
   "nbconvert_exporter": "python",
   "pygments_lexer": "ipython3",
   "version": "3.8.10"
  }
 },
 "nbformat": 4,
 "nbformat_minor": 5
}
